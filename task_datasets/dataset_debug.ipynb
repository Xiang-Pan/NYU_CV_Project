{
 "cells": [
  {
   "cell_type": "markdown",
   "id": "89353713-3fbf-4d3a-9635-4745e783c448",
   "metadata": {},
   "source": [
    "# KITTIDataset"
   ]
  },
  {
   "cell_type": "code",
   "execution_count": null,
   "id": "cc29038d-97b8-4d48-86ca-e7f32e5a3fa9",
   "metadata": {},
   "outputs": [],
   "source": [
    "from kitti_dataset import *"
   ]
  },
  {
   "cell_type": "code",
   "execution_count": null,
   "id": "f577ffe4-4b65-41da-9bdf-eedbb8e8b8ab",
   "metadata": {},
   "outputs": [],
   "source": [
    "dataset = KITTIDataset(data_path=\"../cached_datasets/KITTI/\", split=\"train\")"
   ]
  },
  {
   "cell_type": "code",
   "execution_count": null,
   "id": "45b3d66d-268b-48ec-9aab-ebfc0eb13350",
   "metadata": {},
   "outputs": [],
   "source": [
    "dataset[0][0].shape"
   ]
  },
  {
   "cell_type": "code",
   "execution_count": null,
   "id": "7b28eb0d-b901-4b4d-98b9-05676def49e8",
   "metadata": {},
   "outputs": [],
   "source": [
    "dataset[0][1].shape"
   ]
  },
  {
   "cell_type": "code",
   "execution_count": null,
   "id": "871bf322-9a34-493e-b27c-82892138323f",
   "metadata": {},
   "outputs": [],
   "source": [
    "4, 376, 1242"
   ]
  },
  {
   "cell_type": "code",
   "execution_count": null,
   "id": "f929205d-f342-455f-a9a1-c586e91b63c1",
   "metadata": {},
   "outputs": [],
   "source": [
    "from torchmetrics import JaccardIndex, ConfusionMatrix\n",
    "import torch\n",
    "target = torch.randint(0, 18, (4, 376, 1242))\n",
    "pred = torch.tensor(target)\n",
    "# print(target)\n",
    "pred[2:5, 7:13, 9:15] = 19 - pred[2:5, 7:13, 9:15]\n",
    "jaccard = JaccardIndex(num_classes=19)\n",
    "jaccard(pred, target)"
   ]
  },
  {
   "cell_type": "code",
   "execution_count": null,
   "id": "bdba22bd-2ced-4689-9841-d20352daf544",
   "metadata": {},
   "outputs": [],
   "source": [
    "pred.shape"
   ]
  },
  {
   "cell_type": "code",
   "execution_count": null,
   "id": "0d4a28bf-93b5-4d35-a014-28596aa28327",
   "metadata": {},
   "outputs": [],
   "source": [
    "target.shape"
   ]
  },
  {
   "cell_type": "code",
   "execution_count": null,
   "id": "571b553e-c85f-49d0-b0ca-6bb2c6aad01b",
   "metadata": {},
   "outputs": [],
   "source": [
    "jaccard = JaccardIndex(num_classes=19)\n",
    "jaccard(pred, target)"
   ]
  },
  {
   "cell_type": "code",
   "execution_count": 1,
   "id": "5dce2bf4-8611-4f9f-b2ba-c18f9f9baeba",
   "metadata": {},
   "outputs": [],
   "source": [
    "import torch"
   ]
  },
  {
   "cell_type": "code",
   "execution_count": 2,
   "id": "eda109e6-4f20-4586-ab66-cf83b6c9c4ab",
   "metadata": {},
   "outputs": [],
   "source": [
    "predictions = torch.load(\"../predictions.pt\")"
   ]
  },
  {
   "cell_type": "code",
   "execution_count": 3,
   "id": "bc72d20c-3c6c-4f69-86b9-e647baf2b0f3",
   "metadata": {},
   "outputs": [],
   "source": [
    "mask = torch.load(\"../mask.pt\")"
   ]
  },
  {
   "cell_type": "code",
   "execution_count": 4,
   "id": "566a8265-0c51-4257-ae89-ea0617b40011",
   "metadata": {},
   "outputs": [],
   "source": [
    "out = torch.load(\"../out.pt\")"
   ]
  },
  {
   "cell_type": "code",
   "execution_count": null,
   "id": "8ca64130-840c-402d-a6d4-11c43cfc0c2a",
   "metadata": {},
   "outputs": [],
   "source": [
    "jaccard = JaccardIndex(num_classes=19)\n",
    "jaccard(predictions, mask)"
   ]
  },
  {
   "cell_type": "code",
   "execution_count": null,
   "id": "742b830d-5d23-4a1e-a2fa-02e89327dbdd",
   "metadata": {},
   "outputs": [],
   "source": [
    "confmat = ConfusionMatrix(num_classes=19)\n",
    "confmat(predictions, mask)"
   ]
  },
  {
   "cell_type": "code",
   "execution_count": null,
   "id": "48f47a60-de4e-45c5-9d51-b1d3b50ae6f3",
   "metadata": {},
   "outputs": [],
   "source": [
    "predictions.shape, mask.shape"
   ]
  },
  {
   "cell_type": "code",
   "execution_count": null,
   "id": "c7bd5450-07a9-4447-9d61-8dfd1370e6aa",
   "metadata": {},
   "outputs": [],
   "source": [
    "preds, target, mode = _input_format_classification(predictions, mask, threshold=0.5)"
   ]
  },
  {
   "cell_type": "code",
   "execution_count": null,
   "id": "3712d8c6-f74b-423f-a5df-da4cc7cd79a9",
   "metadata": {},
   "outputs": [],
   "source": [
    "num_classes = 19\n",
    "unique_mapping = (mask.view(-1) * num_classes + predictions.view(-1)).to(torch.long)\n",
    "minlength = num_classes ** 2"
   ]
  },
  {
   "cell_type": "code",
   "execution_count": null,
   "id": "5a85042f-f6f2-43d3-a2e9-50e542fb0f13",
   "metadata": {},
   "outputs": [],
   "source": [
    "bins = torch.bincount(unique_mapping, minlength=minlength)"
   ]
  },
  {
   "cell_type": "code",
   "execution_count": null,
   "id": "fe7840be-9864-4507-a1d4-e933569ca76d",
   "metadata": {},
   "outputs": [],
   "source": [
    "bins.shape"
   ]
  },
  {
   "cell_type": "code",
   "execution_count": null,
   "id": "3b187809-3995-4e75-8b28-8258f493b5e0",
   "metadata": {},
   "outputs": [],
   "source": [
    "(mask.view(-1) * num_classes + predictions.view(-1)).shape"
   ]
  },
  {
   "cell_type": "code",
   "execution_count": null,
   "id": "68ae2d32-eba1-44ae-8a6a-48a0c1337154",
   "metadata": {},
   "outputs": [],
   "source": [
    "import pandas as pd\n",
    "x_np = predictions[0].cpu().numpy()\n",
    "x_df = pd.DataFrame(x_np)\n",
    "x_df.to_csv('predictions.csv', index=False)"
   ]
  },
  {
   "cell_type": "code",
   "execution_count": null,
   "id": "2a8af385-9dda-4057-9d2c-96510f014002",
   "metadata": {},
   "outputs": [],
   "source": [
    "def iou_score(output, target):\n",
    "    smooth = 1e-5\n",
    "\n",
    "    if torch.is_tensor(output):\n",
    "        output = torch.sigmoid(output).data.cpu().numpy()\n",
    "    if torch.is_tensor(target):\n",
    "        target = target.data.cpu().numpy()\n",
    "    output_ = output > 0.5\n",
    "    target_ = target > 0.5\n",
    "    intersection = (output_ & target_).sum()\n",
    "    union = (output_ | target_).sum()\n",
    "\n",
    "    return (intersection + smooth) / (union + smooth)"
   ]
  },
  {
   "cell_type": "code",
   "execution_count": null,
   "id": "9b4ce5fa-d61e-4c7b-9cb0-8411fa4b7873",
   "metadata": {},
   "outputs": [],
   "source": [
    "iou_score(predictions, mask)"
   ]
  },
  {
   "cell_type": "code",
   "execution_count": null,
   "id": "c066957a-85ba-4fbd-8a7a-6d54d07bc6ba",
   "metadata": {},
   "outputs": [],
   "source": [
    "predictions.shape"
   ]
  },
  {
   "cell_type": "code",
   "execution_count": null,
   "id": "5bd0ed16-ae89-42ac-94d5-662f8e640b65",
   "metadata": {},
   "outputs": [],
   "source": [
    "mask.shape"
   ]
  },
  {
   "cell_type": "code",
   "execution_count": null,
   "id": "6d2e39bc-b589-45dd-a0f8-1859e954f4be",
   "metadata": {},
   "outputs": [],
   "source": [
    "output = torch.sigmoid(predictions).data.cpu().numpy()"
   ]
  },
  {
   "cell_type": "code",
   "execution_count": null,
   "id": "4d8519c2-9a3f-4514-a19f-97a0ecead793",
   "metadata": {},
   "outputs": [],
   "source": [
    "output.shape"
   ]
  },
  {
   "cell_type": "code",
   "execution_count": null,
   "id": "d1ac04b5-c60e-48ba-899b-79bc4c4ba5e9",
   "metadata": {},
   "outputs": [],
   "source": [
    "import numpy as np\n",
    "def metric(probability, truth):\n",
    "    '''Calculates dice of positive and negative images seperately'''\n",
    "    '''probability and truth must be torch tensors'''\n",
    "    base_threshold = 0.5\n",
    "    batch_size = len(truth)\n",
    "    with torch.no_grad():\n",
    "        probability = (probability > base_threshold).float()\n",
    "        truth = (truth > 0.5).float()\n",
    "\n",
    "        p = probability.view(batch_size, -1)\n",
    "        t = truth.view(batch_size, -1)\n",
    "        assert(p.shape == t.shape)\n",
    "\n",
    "        intersection = (p*t).sum(-1)\n",
    "        union = (p+t).sum(-1)\n",
    "\n",
    "        t_sum = t.sum(-1)\n",
    "        p_sum = p.sum(-1)\n",
    "        neg_index = torch.nonzero(t_sum == 0)\n",
    "        pos_index = torch.nonzero(t_sum >= 1)\n",
    "\n",
    "        neg = (p_sum == 0).float()\n",
    "        dice_pos = (2 * intersection) / (union + 1e-7)\n",
    "        iou_pos = intersection / (union + 1e-7)\n",
    "\n",
    "        neg = neg[neg_index]\n",
    "        dice_pos = dice_pos[pos_index]\n",
    "        iou_pos = iou_pos[pos_index]\n",
    "\n",
    "        dice = torch.cat([dice_pos, neg])\n",
    "        iou = torch.cat([iou_pos, neg])\n",
    "\n",
    "        neg = np.nan_to_num(neg.mean().item(), 0)\n",
    "        dice_pos = np.nan_to_num(dice_pos.mean().item(), 0)\n",
    "\n",
    "        dice = dice.mean().item()\n",
    "        iou = iou.mean().item()\n",
    "\n",
    "        num_neg = len(neg_index)\n",
    "        num_pos = len(pos_index)\n",
    "\n",
    "        dice = {\"dice_all\": dice}\n",
    "\n",
    "        # if self.get_class_metric:\n",
    "        num_classes = probability.shape[1]\n",
    "        for c in range(num_classes):\n",
    "            iflat = probability[:, c,...].view(batch_size, -1)\n",
    "            tflat = truth[:, c,...].view(batch_size, -1)\n",
    "            intersection = (iflat * tflat).sum()\n",
    "            dice[str(c)] = ((2. * intersection) / (iflat.sum() + tflat.sum() + 1e-7)).item()\n",
    "\n",
    "    return iou, dice, neg, dice_pos, num_neg, num_pos"
   ]
  },
  {
   "cell_type": "code",
   "execution_count": null,
   "id": "72900be4-6426-4533-a362-e91fb822ee83",
   "metadata": {},
   "outputs": [],
   "source": [
    "metric(out, mask)"
   ]
  },
  {
   "cell_type": "code",
   "execution_count": null,
   "id": "f2d05ee7-d849-423f-9517-a66bf1cc5e02",
   "metadata": {},
   "outputs": [],
   "source": [
    "out.view(4, -1).shape"
   ]
  },
  {
   "cell_type": "code",
   "execution_count": null,
   "id": "9f88159f-64e8-482a-9172-a1a11a50d26b",
   "metadata": {},
   "outputs": [],
   "source": [
    "out.view(batch_size, -1)"
   ]
  },
  {
   "cell_type": "code",
   "execution_count": null,
   "id": "ba5bdc37-9206-406f-aa9e-71fc445b693c",
   "metadata": {},
   "outputs": [],
   "source": [
    "import torch\n",
    "mask = torch.load(\"../mask.pt\")\n",
    "data = torch.nn.functional.one_hot(mask)"
   ]
  },
  {
   "cell_type": "code",
   "execution_count": null,
   "id": "cc5bb092-0292-4901-823e-916fb1cf9f57",
   "metadata": {},
   "outputs": [],
   "source": [
    "torch.nn.functional.one_hot((torch.arange(0, 5) % 3))"
   ]
  },
  {
   "cell_type": "code",
   "execution_count": null,
   "id": "0df9683f-51a7-44b0-96ca-ab78244cc485",
   "metadata": {},
   "outputs": [],
   "source": [
    "# mask.shape\n",
    "\n",
    "torch.nn.functional.one_hot(mask, num_classes=19)\n",
    "# categorical[torch.arange(65536), y] = 1\n",
    "# categorical = torch.reshape(categorical, (256, 256, 10))\n"
   ]
  },
  {
   "cell_type": "code",
   "execution_count": null,
   "id": "61dcd9d6-b731-4fef-be6b-b2d3fc84bfb0",
   "metadata": {},
   "outputs": [],
   "source": [
    "mask"
   ]
  },
  {
   "cell_type": "code",
   "execution_count": 44,
   "id": "e875d587-6785-4a14-bd63-56cd10ebbbf5",
   "metadata": {},
   "outputs": [],
   "source": [
    "import numpy as np\n",
    "def compute_ious(pred, label, classes, ignore_index=255, only_present=True):\n",
    "    pred[label == ignore_index] = 0\n",
    "    ious = []\n",
    "    for c in classes:\n",
    "        label_c = label == c\n",
    "        if only_present and np.sum(label_c.int().cpu().numpy()) == 0:\n",
    "            ious.append(nan)\n",
    "            continue\n",
    "        pred_c = pred == c\n",
    "        intersection = np.logical_and(pred_c.cpu(), label_c.cpu()).sum()\n",
    "        union = np.logical_or(pred_c.cpu(), label_c.cpu()).sum()\n",
    "        if union != 0:\n",
    "            ious.append(float(intersection / union))\n",
    "    # ious = torch.Tensor(ious)\n",
    "    mean = torch.Tensor(ious).mean()\n",
    "    return mean if ious else [1]"
   ]
  },
  {
   "cell_type": "code",
   "execution_count": 45,
   "id": "2a7d8db2-2cbc-42b3-8dd7-39e21997eb8c",
   "metadata": {},
   "outputs": [
    {
     "data": {
      "text/plain": [
       "tensor(0.0155)"
      ]
     },
     "execution_count": 45,
     "metadata": {},
     "output_type": "execute_result"
    }
   ],
   "source": [
    "compute_ious(predictions, mask, classes=[i for i in range(19)], ignore_index=250)"
   ]
  },
  {
   "cell_type": "code",
   "execution_count": 7,
   "id": "ce3d1271-1d16-4b5e-a50c-85acb28a2328",
   "metadata": {},
   "outputs": [],
   "source": [
    "label = mask\n",
    "label_c = label == 0"
   ]
  },
  {
   "cell_type": "code",
   "execution_count": 12,
   "id": "9e330f8a-ff4e-4a27-8eaa-9118183a6175",
   "metadata": {},
   "outputs": [
    {
     "data": {
      "text/plain": [
       "496732"
      ]
     },
     "execution_count": 12,
     "metadata": {},
     "output_type": "execute_result"
    }
   ],
   "source": [
    "np.sum(label_c.int().cpu().numpy())"
   ]
  },
  {
   "cell_type": "code",
   "execution_count": 68,
   "id": "aa092a5f-1f76-4e87-a6f8-6b4ecccd4e5e",
   "metadata": {},
   "outputs": [],
   "source": [
    "def compute_ious(pred, label, classes, ignore_index=255, only_present=True):\n",
    "    pred[label == ignore_index] = 0\n",
    "    ious = []\n",
    "    for c in classes:\n",
    "        label_c = label == c\n",
    "        if only_present and np.sum(label_c.int().cpu().numpy()) == 0:\n",
    "            ious.append(np.nan)\n",
    "            continue\n",
    "        pred_c = pred == c\n",
    "        intersection = np.logical_and(pred_c.cpu(), label_c.cpu()).sum()\n",
    "        union = np.logical_or(pred_c.cpu(), label_c.cpu()).sum()\n",
    "        if union != 0:\n",
    "            ious.append(intersection / union)\n",
    "    mean = torch.Tensor(ious)\n",
    "    mean = mean[~mean.isnan()].mean()\n",
    "    return mean if ious else 0"
   ]
  },
  {
   "cell_type": "code",
   "execution_count": 67,
   "id": "1af34f18-4a89-43e8-9980-e877fd312f07",
   "metadata": {},
   "outputs": [
    {
     "name": "stdout",
     "output_type": "stream",
     "text": [
      "tensor(0.0184)\n"
     ]
    },
    {
     "data": {
      "text/plain": [
       "[tensor(0.0025),\n",
       " tensor(0.),\n",
       " tensor(0.),\n",
       " tensor(0.),\n",
       " tensor(0.0001),\n",
       " tensor(0.0227),\n",
       " tensor(0.0076),\n",
       " tensor(0.0100),\n",
       " tensor(0.1572),\n",
       " tensor(0.0003),\n",
       " tensor(0.0845),\n",
       " tensor(0.0082),\n",
       " tensor(0.0002),\n",
       " tensor(0.),\n",
       " tensor(0.0005),\n",
       " tensor(0.),\n",
       " nan,\n",
       " nan,\n",
       " nan]"
      ]
     },
     "execution_count": 67,
     "metadata": {},
     "output_type": "execute_result"
    }
   ],
   "source": [
    "compute_ious(predictions, mask, classes=[i for i in range(19)], ignore_index=250)"
   ]
  },
  {
   "cell_type": "code",
   "execution_count": null,
   "id": "b417aa9c-72b9-4216-9252-b4a2142aa362",
   "metadata": {},
   "outputs": [],
   "source": []
  }
 ],
 "metadata": {
  "kernelspec": {
   "display_name": "Python 3 (ipykernel)",
   "language": "python",
   "name": "python3"
  },
  "language_info": {
   "codemirror_mode": {
    "name": "ipython",
    "version": 3
   },
   "file_extension": ".py",
   "mimetype": "text/x-python",
   "name": "python",
   "nbconvert_exporter": "python",
   "pygments_lexer": "ipython3",
   "version": "3.9.7"
  }
 },
 "nbformat": 4,
 "nbformat_minor": 5
}
