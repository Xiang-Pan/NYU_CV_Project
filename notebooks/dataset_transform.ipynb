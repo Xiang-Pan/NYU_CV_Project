{
 "cells": [
  {
   "cell_type": "code",
   "execution_count": 5,
   "id": "29779ce8-db7a-4614-9dc0-ddcf66b8c3ab",
   "metadata": {},
   "outputs": [
    {
     "name": "stdout",
     "output_type": "stream",
     "text": [
      "/home/xiangpan/Labs/NYU_CV/project\n"
     ]
    }
   ],
   "source": [
    "cd .."
   ]
  },
  {
   "cell_type": "code",
   "execution_count": 6,
   "id": "953aaa7e-1074-46bd-8ad8-c23c9543c2ea",
   "metadata": {},
   "outputs": [
    {
     "data": {
      "text/plain": [
       "'/home/xiangpan/Labs/NYU_CV/project'"
      ]
     },
     "execution_count": 6,
     "metadata": {},
     "output_type": "execute_result"
    }
   ],
   "source": [
    "pwd"
   ]
  },
  {
   "cell_type": "markdown",
   "id": "da8244e6-474e-4beb-af62-8bcf36a4dfe8",
   "metadata": {},
   "source": [
    "# Read_Annotation"
   ]
  },
  {
   "cell_type": "markdown",
   "id": "d9eac297-c5d0-4c56-9bdf-e3f15ea7784a",
   "metadata": {},
   "source": [
    "## streetview-low-res"
   ]
  },
  {
   "cell_type": "code",
   "execution_count": 1,
   "id": "1d2825a2-05ee-434e-bb1f-12faaea68a6f",
   "metadata": {},
   "outputs": [],
   "source": [
    "import json\n",
    "import cv2\n",
    "import torch\n",
    "import os"
   ]
  },
  {
   "cell_type": "code",
   "execution_count": 8,
   "id": "3665cbf6-5831-4b00-96d1-4b19469f3872",
   "metadata": {},
   "outputs": [],
   "source": [
    "json_file_path = \"./cached_datasets/unity-streeview-low-res/Dataset6aa40104-4216-49a8-87b3-d1685c9ce29a/annotation_definitions.json\"\n",
    "obj = json.load(open(json_file_path,\"r+\"))"
   ]
  },
  {
   "cell_type": "code",
   "execution_count": 9,
   "id": "43803002-f537-4533-b78c-5fb880a6ed82",
   "metadata": {},
   "outputs": [],
   "source": [
    "import numpy as np\n",
    "import math\n",
    "i = 0\n",
    "d = dict()\n",
    "for item in obj[\"annotation_definitions\"][0][\"spec\"]:\n",
    "    label_name = item[\"label_name\"]\n",
    "    # color = np.array(,,item[\"pixel_value\"]['b']])\n",
    "    R = (item[\"pixel_value\"]['r'])*255\n",
    "    G = (item[\"pixel_value\"]['g'])*255\n",
    "    B = (item[\"pixel_value\"]['b'])*255\n",
    "    gray = int((0.2989 * R) + (0.5870 * G) + (0.1140 * B))\n",
    "    color = (R,G,B)\n",
    "    d[gray] = i\n",
    "    i += 1"
   ]
  },
  {
   "cell_type": "code",
   "execution_count": 30,
   "id": "2e44634e-7d36-4041-a3ee-d8da0e720517",
   "metadata": {},
   "outputs": [],
   "source": [
    "dir_path = \"./cached_datasets/unity-streeview-low-res/SemanticSegmentation02c69c64-7237-4fc5-944b-0a9a7b7a008b/\"\n",
    "output_dir_path = \"./cached_datasets/unity-streeview-low-res/SemanticSegmentation_gray/\"\n",
    "dir_list = os.listdir(dir_path)"
   ]
  },
  {
   "cell_type": "code",
   "execution_count": 31,
   "id": "45f8b851-840b-4a4a-a969-34f4f9075752",
   "metadata": {},
   "outputs": [],
   "source": [
    "for file_name in dir_list:\n",
    "    file_path = \"/\".join([dir_path, file_name]) \n",
    "    output_file_path = \"/\".join([output_dir_path, file_name])\n",
    "    input_array = cv2.imread(file_path, cv2.IMREAD_GRAYSCALE)\n",
    "    output_array = np.zeros_like(input_array)\n",
    "    for key in d:\n",
    "        output_array[input_array==key] = d[key]\n",
    "    output_array\n",
    "    \n",
    "    cv2.imwrite(output_file_path, output_array)\n",
    "    "
   ]
  },
  {
   "cell_type": "code",
   "execution_count": 25,
   "id": "d6adaff4-0d0c-451b-934e-2e628639de00",
   "metadata": {},
   "outputs": [
    {
     "data": {
      "text/plain": [
       "array([[ 8,  8,  8, ..., 17, 17, 17],\n",
       "       [ 8,  8,  8, ..., 17, 17, 17],\n",
       "       [ 8,  8,  8, ..., 17, 17, 17],\n",
       "       ...,\n",
       "       [ 7,  7,  7, ...,  7,  7,  7],\n",
       "       [ 7,  7,  7, ...,  7,  7,  7],\n",
       "       [ 7,  7,  7, ...,  7,  7,  7]], dtype=uint8)"
      ]
     },
     "execution_count": 25,
     "metadata": {},
     "output_type": "execute_result"
    }
   ],
   "source": [
    "output_array"
   ]
  },
  {
   "cell_type": "code",
   "execution_count": 29,
   "id": "767182e8-29e9-4614-9ccc-4ead6e8d0571",
   "metadata": {},
   "outputs": [
    {
     "data": {
      "text/plain": [
       "True"
      ]
     },
     "execution_count": 29,
     "metadata": {},
     "output_type": "execute_result"
    }
   ],
   "source": [
    "# img_gray = cv2.cvtColor(output_array, cv2.COLOR_BGR2GRAY)\n"
   ]
  },
  {
   "cell_type": "code",
   "execution_count": 28,
   "id": "829ca2ff-c103-4054-8822-062bff9fc059",
   "metadata": {},
   "outputs": [
    {
     "data": {
      "text/plain": [
       "array([[ 8,  8,  8, ..., 17, 17, 17],\n",
       "       [ 8,  8,  8, ..., 17, 17, 17],\n",
       "       [ 8,  8,  8, ..., 17, 17, 17],\n",
       "       ...,\n",
       "       [ 7,  7,  7, ...,  7,  7,  7],\n",
       "       [ 7,  7,  7, ...,  7,  7,  7],\n",
       "       [ 7,  7,  7, ...,  7,  7,  7]], dtype=uint8)"
      ]
     },
     "execution_count": 28,
     "metadata": {},
     "output_type": "execute_result"
    }
   ],
   "source": [
    "output_array"
   ]
  },
  {
   "cell_type": "markdown",
   "id": "c82ededd-1bda-4bbb-81cd-5244e44a3ef3",
   "metadata": {},
   "source": [
    "## streetview-high-res"
   ]
  },
  {
   "cell_type": "code",
   "execution_count": 3,
   "id": "4b66189e-7014-435a-b182-a7681e965845",
   "metadata": {},
   "outputs": [],
   "source": [
    "json_file_path = \"./cached_datasets/unity-streetview-high-res/Datasete7608eec-163c-4096-aa99-a333a3fd21a8/annotation_definitions.json\"\n",
    "obj = json.load(open(json_file_path,\"r+\"))"
   ]
  },
  {
   "cell_type": "code",
   "execution_count": 4,
   "id": "b032b524-364e-4404-b1e6-18b84dab11cb",
   "metadata": {},
   "outputs": [],
   "source": [
    "import numpy as np\n",
    "import math\n",
    "i = 0\n",
    "d = dict()\n",
    "for item in obj[\"annotation_definitions\"][0][\"spec\"]:\n",
    "    label_name = item[\"label_name\"]\n",
    "    # color = np.array(,,item[\"pixel_value\"]['b']])\n",
    "    R = (item[\"pixel_value\"]['r'])*255\n",
    "    G = (item[\"pixel_value\"]['g'])*255\n",
    "    B = (item[\"pixel_value\"]['b'])*255\n",
    "    gray = int((0.2989 * R) + (0.5870 * G) + (0.1140 * B))\n",
    "    color = (R,G,B)\n",
    "    d[gray] = i\n",
    "    i += 1"
   ]
  },
  {
   "cell_type": "code",
   "execution_count": 5,
   "id": "9b13929a-3dc8-4dd3-ad39-b3ef439fbe4d",
   "metadata": {},
   "outputs": [],
   "source": [
    "dir_path = \"./cached_datasets/unity-streetview-high-res/SemanticSegmentation/\"\n",
    "output_dir_path = \"./cached_datasets/unity-streetview-high-res/SemanticSegmentation_gray/\"\n",
    "dir_list = os.listdir(dir_path)"
   ]
  },
  {
   "cell_type": "code",
   "execution_count": 6,
   "id": "5f68658f-dc1a-4960-9f72-6361db176d98",
   "metadata": {},
   "outputs": [],
   "source": [
    "for file_name in dir_list:\n",
    "    file_path = \"/\".join([dir_path, file_name]) \n",
    "    output_file_path = \"/\".join([output_dir_path, file_name])\n",
    "    input_array = cv2.imread(file_path, cv2.IMREAD_GRAYSCALE)\n",
    "    output_array = np.zeros_like(input_array)\n",
    "    for key in d:\n",
    "        output_array[input_array==key] = d[key]\n",
    "    output_array\n",
    "    \n",
    "    cv2.imwrite(output_file_path, output_array)"
   ]
  },
  {
   "cell_type": "markdown",
   "id": "0c1c8172-1186-46aa-9c5d-4f29a2d2da23",
   "metadata": {
    "tags": []
   },
   "source": [
    "## camaraview-low-res"
   ]
  },
  {
   "cell_type": "code",
   "execution_count": 2,
   "id": "10c11ebf-c1aa-4629-8823-7905ee75c392",
   "metadata": {},
   "outputs": [],
   "source": [
    "import json\n",
    "import cv2\n",
    "import torch\n",
    "import os"
   ]
  },
  {
   "cell_type": "code",
   "execution_count": 18,
   "id": "11cd8ac0-dc34-4af1-80e7-0a06f8dd3fe1",
   "metadata": {},
   "outputs": [],
   "source": [
    "json_file_path = \"./cached_datasets/unity-cameraview-low-res/Dataset9dbd00ad-a02a-442d-a6a7-4a7ec46e149f/annotation_definitions.json\"\n",
    "obj = json.load(open(json_file_path,\"r+\"))"
   ]
  },
  {
   "cell_type": "code",
   "execution_count": 19,
   "id": "9a70d9af-0397-4524-bb68-a0e17b41c810",
   "metadata": {},
   "outputs": [],
   "source": [
    "import numpy as np\n",
    "import math\n",
    "i = 0\n",
    "d = dict()\n",
    "for item in obj[\"annotation_definitions\"][0][\"spec\"]:\n",
    "    label_name = item[\"label_name\"]\n",
    "    # color = np.array(,,item[\"pixel_value\"]['b']])\n",
    "    R = (item[\"pixel_value\"]['r'])*255\n",
    "    G = (item[\"pixel_value\"]['g'])*255\n",
    "    B = (item[\"pixel_value\"]['b'])*255\n",
    "    gray = int((0.2989 * R) + (0.5870 * G) + (0.1140 * B))\n",
    "    color = (R,G,B)\n",
    "    d[gray] = i\n",
    "    i += 1"
   ]
  },
  {
   "cell_type": "code",
   "execution_count": 20,
   "id": "b8259f4c-def7-4e76-8dd6-283b36eecf0e",
   "metadata": {},
   "outputs": [],
   "source": [
    "dir_path = \"./cached_datasets/unity-cameraview-low-res/SemanticSegmentation/\"\n",
    "output_dir_path = \"./cached_datasets/unity-cameraview-low-res/SemanticSegmentation_gray/\"\n",
    "if not os.path.exists(output_array):\n",
    "    os.mkdir(output_dir_path)\n",
    "dir_list = os.listdir(dir_path)"
   ]
  },
  {
   "cell_type": "code",
   "execution_count": 21,
   "id": "95462234-624a-41a6-88d4-b0ee28c16d4c",
   "metadata": {},
   "outputs": [],
   "source": [
    "for file_name in dir_list:\n",
    "    file_path = \"/\".join([dir_path, file_name]) \n",
    "    output_file_path = \"/\".join([output_dir_path, file_name])\n",
    "    input_array = cv2.imread(file_path, cv2.IMREAD_GRAYSCALE)\n",
    "    output_array = np.zeros_like(input_array)\n",
    "    for key in d:\n",
    "        output_array[input_array==key] = d[key]\n",
    "    output_array\n",
    "    \n",
    "    cv2.imwrite(output_file_path, output_array)\n",
    "    "
   ]
  },
  {
   "cell_type": "markdown",
   "id": "5a3b8076-a9d5-4bef-8937-008f14aa9f19",
   "metadata": {},
   "source": [
    "## camaraview-high-res"
   ]
  },
  {
   "cell_type": "code",
   "execution_count": 3,
   "id": "2bfcc894-30d5-4fce-a9be-6eb6eccdef1f",
   "metadata": {},
   "outputs": [
    {
     "ename": "FileNotFoundError",
     "evalue": "[Errno 2] No such file or directory: './cached_datasets/unity-cameraview-high-res/Dataset15b4a934-6abe-4514-b72a-9d842c688efe/annotation_definitions.json'",
     "output_type": "error",
     "traceback": [
      "\u001b[0;31m---------------------------------------------------------------------------\u001b[0m",
      "\u001b[0;31mFileNotFoundError\u001b[0m                         Traceback (most recent call last)",
      "\u001b[0;32m/tmp/ipykernel_184936/674757950.py\u001b[0m in \u001b[0;36m<module>\u001b[0;34m\u001b[0m\n\u001b[1;32m      1\u001b[0m \u001b[0mjson_file_path\u001b[0m \u001b[0;34m=\u001b[0m \u001b[0;34m\"./cached_datasets/unity-cameraview-high-res/Dataset15b4a934-6abe-4514-b72a-9d842c688efe/annotation_definitions.json\"\u001b[0m\u001b[0;34m\u001b[0m\u001b[0;34m\u001b[0m\u001b[0m\n\u001b[0;32m----> 2\u001b[0;31m \u001b[0mobj\u001b[0m \u001b[0;34m=\u001b[0m \u001b[0mjson\u001b[0m\u001b[0;34m.\u001b[0m\u001b[0mload\u001b[0m\u001b[0;34m(\u001b[0m\u001b[0mopen\u001b[0m\u001b[0;34m(\u001b[0m\u001b[0mjson_file_path\u001b[0m\u001b[0;34m,\u001b[0m\u001b[0;34m\"r+\"\u001b[0m\u001b[0;34m)\u001b[0m\u001b[0;34m)\u001b[0m\u001b[0;34m\u001b[0m\u001b[0;34m\u001b[0m\u001b[0m\n\u001b[0m",
      "\u001b[0;31mFileNotFoundError\u001b[0m: [Errno 2] No such file or directory: './cached_datasets/unity-cameraview-high-res/Dataset15b4a934-6abe-4514-b72a-9d842c688efe/annotation_definitions.json'"
     ]
    }
   ],
   "source": [
    "json_file_path = \"./cached_datasets/unity-cameraview-high-res/Dataset15b4a934-6abe-4514-b72a-9d842c688efe/annotation_definitions.json\"\n",
    "obj = json.load(open(json_file_path,\"r+\"))"
   ]
  },
  {
   "cell_type": "code",
   "execution_count": 11,
   "id": "e393f550-e98b-4bbc-8686-80534374bacd",
   "metadata": {},
   "outputs": [],
   "source": [
    "import numpy as np\n",
    "import math\n",
    "i = 0\n",
    "d = dict()\n",
    "for item in obj[\"annotation_definitions\"][0][\"spec\"]:\n",
    "    label_name = item[\"label_name\"]\n",
    "    # color = np.array(,,item[\"pixel_value\"]['b']])\n",
    "    R = (item[\"pixel_value\"]['r'])*255\n",
    "    G = (item[\"pixel_value\"]['g'])*255\n",
    "    B = (item[\"pixel_value\"]['b'])*255\n",
    "    gray = int((0.2989 * R) + (0.5870 * G) + (0.1140 * B))\n",
    "    color = (R,G,B)\n",
    "    d[gray] = i\n",
    "    i += 1"
   ]
  },
  {
   "cell_type": "code",
   "execution_count": 16,
   "id": "c7e4988f-9a9b-4a5c-ac5c-1e95bcf5c1d4",
   "metadata": {},
   "outputs": [],
   "source": [
    "dir_path = \"./cached_datasets/unity-cameraview-high-res/SemanticSegmentation/\"\n",
    "output_dir_path = \"./cached_datasets/unity-cameraview-high-res/SemanticSegmentation_gray/\"\n",
    "if not os.path.exists(output_array):\n",
    "    os.mkdir(output_dir_path)\n",
    "dir_list = os.listdir(dir_path)"
   ]
  },
  {
   "cell_type": "code",
   "execution_count": 17,
   "id": "a68dabe9-1408-4074-94b9-a75d149e5518",
   "metadata": {},
   "outputs": [],
   "source": [
    "for file_name in dir_list:\n",
    "    file_path = \"/\".join([dir_path, file_name]) \n",
    "    output_file_path = \"/\".join([output_dir_path, file_name])\n",
    "    input_array = cv2.imread(file_path, cv2.IMREAD_GRAYSCALE)\n",
    "    output_array = np.zeros_like(input_array)\n",
    "    for key in d:\n",
    "        output_array[input_array==key] = d[key]\n",
    "    output_array\n",
    "    \n",
    "    cv2.imwrite(output_file_path, output_array)\n",
    "    "
   ]
  },
  {
   "cell_type": "markdown",
   "id": "f8ea9cfd-e1b3-4b20-8be7-de468abe829f",
   "metadata": {},
   "source": [
    "## complex"
   ]
  },
  {
   "cell_type": "code",
   "execution_count": 7,
   "id": "fcf2dc8d-7f95-4c54-acf5-23c218e91927",
   "metadata": {},
   "outputs": [],
   "source": [
    "json_file_path = \"./cached_datasets/unity-streetview-complex/Datasetcb2afaeb-7e0a-4b3c-8b18-6cc0a7b2b787/annotation_definitions.json\"\n",
    "obj = json.load(open(json_file_path,\"r+\"))"
   ]
  },
  {
   "cell_type": "code",
   "execution_count": 8,
   "id": "ed193049-ace9-471a-9df9-f41f50ef7cf6",
   "metadata": {},
   "outputs": [],
   "source": [
    "import numpy as np\n",
    "import math\n",
    "i = 0\n",
    "d = dict()\n",
    "for item in obj[\"annotation_definitions\"][0][\"spec\"]:\n",
    "    label_name = item[\"label_name\"]\n",
    "    # color = np.array(,,item[\"pixel_value\"]['b']])\n",
    "    R = (item[\"pixel_value\"]['r'])*255\n",
    "    G = (item[\"pixel_value\"]['g'])*255\n",
    "    B = (item[\"pixel_value\"]['b'])*255\n",
    "    gray = int((0.2989 * R) + (0.5870 * G) + (0.1140 * B))\n",
    "    color = (R,G,B)\n",
    "    d[gray] = i\n",
    "    i += 1"
   ]
  },
  {
   "cell_type": "code",
   "execution_count": 9,
   "id": "fb92c20d-af18-461d-b2aa-147dab35ec99",
   "metadata": {},
   "outputs": [],
   "source": [
    "dir_path = \"./cached_datasets/unity-streetview-complex/SemanticSegmentation/\"\n",
    "output_dir_path = \"./cached_datasets/unity-streetview-complex/SemanticSegmentation_gray/\"\n",
    "if not os.path.exists(output_dir_path):\n",
    "    os.mkdir(output_dir_path)\n",
    "dir_list = os.listdir(dir_path)"
   ]
  },
  {
   "cell_type": "code",
   "execution_count": 10,
   "id": "ab65f78f-9163-4774-8cf1-48dad287e254",
   "metadata": {},
   "outputs": [],
   "source": [
    "for file_name in dir_list:\n",
    "    file_path = \"/\".join([dir_path, file_name]) \n",
    "    output_file_path = \"/\".join([output_dir_path, file_name])\n",
    "    input_array = cv2.imread(file_path, cv2.IMREAD_GRAYSCALE)\n",
    "    output_array = np.zeros_like(input_array)\n",
    "    for key in d:\n",
    "        output_array[input_array==key] = d[key]\n",
    "    output_array\n",
    "    \n",
    "    cv2.imwrite(output_file_path, output_array)\n",
    "    "
   ]
  },
  {
   "cell_type": "code",
   "execution_count": null,
   "id": "10f2b8df-a4ac-40d8-addf-9705a8917ac8",
   "metadata": {},
   "outputs": [],
   "source": []
  }
 ],
 "metadata": {
  "kernelspec": {
   "display_name": "Python 3 (ipykernel)",
   "language": "python",
   "name": "python3"
  },
  "language_info": {
   "codemirror_mode": {
    "name": "ipython",
    "version": 3
   },
   "file_extension": ".py",
   "mimetype": "text/x-python",
   "name": "python",
   "nbconvert_exporter": "python",
   "pygments_lexer": "ipython3",
   "version": "3.9.7"
  }
 },
 "nbformat": 4,
 "nbformat_minor": 5
}
