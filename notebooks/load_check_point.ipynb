{
 "cells": [
  {
   "cell_type": "code",
   "execution_count": 3,
   "id": "1cccb326-3594-4351-9e64-2b54c50c9ed5",
   "metadata": {},
   "outputs": [
    {
     "name": "stdout",
     "output_type": "stream",
     "text": [
      "/home/xiangpan/Labs/NYU_CV/project\n"
     ]
    }
   ],
   "source": [
    "cd .."
   ]
  },
  {
   "cell_type": "code",
   "execution_count": 4,
   "id": "67aa309a-4039-49c2-91e8-30c3c6f2a4d0",
   "metadata": {},
   "outputs": [
    {
     "data": {
      "text/plain": [
       "'/home/xiangpan/Labs/NYU_CV/project'"
      ]
     },
     "execution_count": 4,
     "metadata": {},
     "output_type": "execute_result"
    }
   ],
   "source": [
    "pwd"
   ]
  },
  {
   "cell_type": "markdown",
   "id": "e485c72a-cc6f-4c61-a0ea-a36552a8c165",
   "metadata": {
    "tags": []
   },
   "source": [
    "# Load_Check_Point"
   ]
  },
  {
   "cell_type": "code",
   "execution_count": 9,
   "id": "9406615f-0683-4e2f-aa8b-750a151d1872",
   "metadata": {},
   "outputs": [],
   "source": [
    "import torch\n",
    "from task_models.enet.model import ENet\n",
    "from task_models.seg_model import SegModel"
   ]
  },
  {
   "cell_type": "code",
   "execution_count": 10,
   "id": "48544501-9fa7-44b1-a56c-2c2e516f75f4",
   "metadata": {},
   "outputs": [],
   "source": [
    "model = SegModel(\n",
    "    task_name=\"KITTI\",\n",
    "    # data_path=hparams.data_path,\n",
    "    # batch_size=hparams.batch_size,\n",
    "    # lr=hparams.lr,\n",
    "    # num_layers=hparams.num_layers,\n",
    "    # features_start=hparams.features_start,\n",
    "    # bilinear=hparams.bilinear,\n",
    ")"
   ]
  },
  {
   "cell_type": "code",
   "execution_count": 13,
   "id": "8ed61dfd-1065-4553-af72-0af4ab465e1b",
   "metadata": {
    "tags": []
   },
   "outputs": [
    {
     "data": {
      "text/plain": [
       "_IncompatibleKeys(missing_keys=['net.transposed_conv.weight', 'net.transposed_conv.bias'], unexpected_keys=[])"
      ]
     },
     "execution_count": 13,
     "metadata": {},
     "output_type": "execute_result"
    }
   ],
   "source": [
    "model.load_state_dict(state_dict, strict=False)"
   ]
  },
  {
   "cell_type": "code",
   "execution_count": 13,
   "id": "43ebf8f9-35b2-4d8e-8b6c-a63579cb4106",
   "metadata": {
    "tags": []
   },
   "outputs": [
    {
     "ename": "AttributeError",
     "evalue": "'str' object has no attribute 'copy'",
     "output_type": "error",
     "traceback": [
      "\u001b[0;31m---------------------------------------------------------------------------\u001b[0m",
      "\u001b[0;31mAttributeError\u001b[0m                            Traceback (most recent call last)",
      "\u001b[0;32m/tmp/ipykernel_338228/2957131417.py\u001b[0m in \u001b[0;36m<module>\u001b[0;34m\u001b[0m\n\u001b[0;32m----> 1\u001b[0;31m \u001b[0mmodel\u001b[0m\u001b[0;34m.\u001b[0m\u001b[0mload_state_dict\u001b[0m\u001b[0;34m(\u001b[0m\u001b[0;34m\"./cached_models/unity-streetview-high-res_mIOU=0.73.ckpt\"\u001b[0m\u001b[0;34m)\u001b[0m\u001b[0;34m\u001b[0m\u001b[0;34m\u001b[0m\u001b[0m\n\u001b[0m",
      "\u001b[0;32m~/.conda/envs/39/lib/python3.9/site-packages/torch/nn/modules/module.py\u001b[0m in \u001b[0;36mload_state_dict\u001b[0;34m(self, state_dict, strict)\u001b[0m\n\u001b[1;32m   1453\u001b[0m         \u001b[0;31m# copy state_dict so _load_from_state_dict can modify it\u001b[0m\u001b[0;34m\u001b[0m\u001b[0;34m\u001b[0m\u001b[0m\n\u001b[1;32m   1454\u001b[0m         \u001b[0mmetadata\u001b[0m \u001b[0;34m=\u001b[0m \u001b[0mgetattr\u001b[0m\u001b[0;34m(\u001b[0m\u001b[0mstate_dict\u001b[0m\u001b[0;34m,\u001b[0m \u001b[0;34m'_metadata'\u001b[0m\u001b[0;34m,\u001b[0m \u001b[0;32mNone\u001b[0m\u001b[0;34m)\u001b[0m\u001b[0;34m\u001b[0m\u001b[0;34m\u001b[0m\u001b[0m\n\u001b[0;32m-> 1455\u001b[0;31m         \u001b[0mstate_dict\u001b[0m \u001b[0;34m=\u001b[0m \u001b[0mstate_dict\u001b[0m\u001b[0;34m.\u001b[0m\u001b[0mcopy\u001b[0m\u001b[0;34m(\u001b[0m\u001b[0;34m)\u001b[0m\u001b[0;34m\u001b[0m\u001b[0;34m\u001b[0m\u001b[0m\n\u001b[0m\u001b[1;32m   1456\u001b[0m         \u001b[0;32mif\u001b[0m \u001b[0mmetadata\u001b[0m \u001b[0;32mis\u001b[0m \u001b[0;32mnot\u001b[0m \u001b[0;32mNone\u001b[0m\u001b[0;34m:\u001b[0m\u001b[0;34m\u001b[0m\u001b[0;34m\u001b[0m\u001b[0m\n\u001b[1;32m   1457\u001b[0m             \u001b[0;31m# mypy isn't aware that \"_metadata\" exists in state_dict\u001b[0m\u001b[0;34m\u001b[0m\u001b[0;34m\u001b[0m\u001b[0m\n",
      "\u001b[0;31mAttributeError\u001b[0m: 'str' object has no attribute 'copy'"
     ]
    }
   ],
   "source": [
    "model.load_state_dict(\"./cached_models/unity-streetview-high-res_mIOU=0.73.ckpt\")"
   ]
  },
  {
   "cell_type": "markdown",
   "id": "e10c0a58-38a8-43ab-8cc8-03212a1b57e3",
   "metadata": {},
   "source": [
    "# Citiscape_Enet"
   ]
  },
  {
   "cell_type": "code",
   "execution_count": 6,
   "id": "fdfb2018-07d2-4b38-a9d3-02ddc1cdfff0",
   "metadata": {},
   "outputs": [],
   "source": [
    "import torch\n"
   ]
  },
  {
   "cell_type": "code",
   "execution_count": 17,
   "id": "9a5feeb6-92f1-4e27-a623-e22b508c76e0",
   "metadata": {},
   "outputs": [],
   "source": [
    "from task_models.enet_citiscape import ENet\n",
    "state_dict = torch.load(\"./cached_models/ENet_Cityscapes/ENet\")['state_dict']\n",
    "del state_dict['transposed_conv.weight']\n",
    "net = ENet(num_classes=19)\n",
    "net.load_state_dict(state_dict, strict=False)\n",
    "# del state_dict['transposed_conv.bias']"
   ]
  },
  {
   "cell_type": "code",
   "execution_count": 18,
   "id": "a3827abe-d3f9-4b25-a08e-894a3569059c",
   "metadata": {},
   "outputs": [],
   "source": []
  },
  {
   "cell_type": "code",
   "execution_count": 20,
   "id": "639b3a07-d1b0-4bad-81a2-1027bceddc25",
   "metadata": {},
   "outputs": [
    {
     "data": {
      "text/plain": [
       "_IncompatibleKeys(missing_keys=['transposed_conv.weight'], unexpected_keys=[])"
      ]
     },
     "execution_count": 20,
     "metadata": {},
     "output_type": "execute_result"
    }
   ],
   "source": []
  },
  {
   "cell_type": "code",
   "execution_count": null,
   "id": "9f77ece1-da4d-43ed-8e30-ef65f98386df",
   "metadata": {},
   "outputs": [],
   "source": []
  }
 ],
 "metadata": {
  "kernelspec": {
   "display_name": "Python 3 (ipykernel)",
   "language": "python",
   "name": "python3"
  },
  "language_info": {
   "codemirror_mode": {
    "name": "ipython",
    "version": 3
   },
   "file_extension": ".py",
   "mimetype": "text/x-python",
   "name": "python",
   "nbconvert_exporter": "python",
   "pygments_lexer": "ipython3",
   "version": "3.9.7"
  }
 },
 "nbformat": 4,
 "nbformat_minor": 5
}
